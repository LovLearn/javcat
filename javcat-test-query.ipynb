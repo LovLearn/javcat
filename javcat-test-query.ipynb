{
 "cells": [
  {
   "cell_type": "code",
   "execution_count": 5,
   "id": "f42ec7cd-9b92-4c39-9eb4-12f69e2b7cdb",
   "metadata": {},
   "outputs": [],
   "source": [
    "from google.cloud import aiplatform\n",
    "\n",
    "# Copyright 2020 Google LLC\n",
    "#\n",
    "# Licensed under the Apache License, Version 2.0 (the \"License\");\n",
    "# you may not use this file except in compliance with the License.\n",
    "# You may obtain a copy of the License at\n",
    "#\n",
    "#     https://www.apache.org/licenses/LICENSE-2.0\n",
    "#\n",
    "# Unless required by applicable law or agreed to in writing, software\n",
    "# distributed under the License is distributed on an \"AS IS\" BASIS,\n",
    "# WITHOUT WARRANTIES OR CONDITIONS OF ANY KIND, either express or implied.\n",
    "# See the License for the specific language governing permissions and\n",
    "# limitations under the License.\n",
    "\n",
    "# [START aiplatform_predict_tabular_classification_sample]\n",
    "from typing import Dict\n",
    "\n",
    "from google.cloud import aiplatform\n",
    "from google.protobuf import json_format\n",
    "from google.protobuf.struct_pb2 import Value\n",
    "\n",
    "\n",
    "def predict_tabular_classification_sample(\n",
    "    project: str,\n",
    "    endpoint_id: str,\n",
    "    instance_dict: Dict,\n",
    "    location: str = \"us-central1\",\n",
    "    api_endpoint: str = \"us-central1-aiplatform.googleapis.com\",\n",
    "):\n",
    "    # The AI Platform services require regional API endpoints.\n",
    "    client_options = {\"api_endpoint\": api_endpoint}\n",
    "    # Initialize client that will be used to create and send requests.\n",
    "    # This client only needs to be created once, and can be reused for multiple requests.\n",
    "    client = aiplatform.gapic.PredictionServiceClient(client_options=client_options)\n",
    "    # for more info on the instance schema, please use get_model_sample.py\n",
    "    # and look at the yaml found in instance_schema_uri\n",
    "    instance = json_format.ParseDict(instance_dict, Value())\n",
    "    instances = [instance]\n",
    "    parameters_dict = {}\n",
    "    parameters = json_format.ParseDict(parameters_dict, Value())\n",
    "    endpoint = client.endpoint_path(\n",
    "        project=project, location=location, endpoint=endpoint_id\n",
    "    )\n",
    "    response = client.predict(\n",
    "        endpoint=endpoint, instances=instances, parameters=parameters\n",
    "    )\n",
    "    print(\"response\")\n",
    "    print(\" deployed_model_id:\", response.deployed_model_id)\n",
    "    # See gs://google-cloud-aiplatform/schema/predict/prediction/tables_classification.yaml for the format of the predictions.\n",
    "    predictions = response.predictions\n",
    "    for prediction in predictions:\n",
    "        print(\" prediction:\", dict(prediction))\n",
    "\n",
    "\n",
    "# [END aiplatform_predict_tabular_classification_sample]"
   ]
  },
  {
   "cell_type": "code",
   "execution_count": 18,
   "id": "a0959ae3-d775-4455-8eaa-50d4c2b55311",
   "metadata": {},
   "outputs": [
    {
     "name": "stdout",
     "output_type": "stream",
     "text": [
      "response\n",
      " deployed_model_id: 3616504849987796992\n",
      " prediction: {'scores': [0.01349069364368916, 0.9864374399185181, 7.186090078903362e-05], 'classes': ['0', '1', '2']}\n"
     ]
    }
   ],
   "source": [
    "\n",
    "predict_tabular_classification_sample(\n",
    "    project=\"mini-project5\",\n",
    "    endpoint_id=\"2359754263346806784\",\n",
    "    location=\"us-central1\",\n",
    "     instance_dict={\"Property_CD\":\"TX4CC\",\"Region\":\"Houston TX\",\"Zip_Code\":\"77429\",\"Previously_Renewed\":\"1\",\"Lease_Term\":\"8\",\"Lease_Type\":\"SD\",\"Contract_Type_DV\":\"R\",\"Lease_Start_Month\":\"5\",\"Lease_Start_Year\":\"2018\",\"Lease_End_Month\":\"1\",\"Lease_End_Year\":\"2019\",\"no_of_service_requests_srs_\":\"8\",\"no_of_service_requests_from_portal\":\"5\",\"average_srs_age_hours\":\"50\",\"maximum_srs_age_hour\":\"142\",\"number_of_pmi_defects\":\"0\",\"number_of_urgent_srs\":\"1\",\"number_of_asap_srs\":\"8\",\"Renewal_Offer\":\"1319.0\",\"Accepted_Renewal_Offer\":\"1319.0\",\"Net_Balance\":\"\",\"Num_of_Times_Late\":\"1\",\"Num_of_NSFs\":\"\",\"Num_of_Cats\":\"0\",\"Num_of_Dogs\":\"0\",\"No_of_Rentables\":\"0\",\"Overall_Status_CD\":\"\",\"Occupants\":\"1\",\"Num_of_Children\":\"\",\"Martial_Status\":\"0\",\"US_Citizen\":\"0\",\"Gross_Monthly_Income\":\"0.0\",\"Num_of_Complaints\":\"0\",\"Num_of_Escalations\":\"0\",\"Num_of_Compliments\":\"0\",\"Overall_Satisfaction\":\"\",\"Office_Staff_Accessibility\":\"\",\"Office_Staff_Communication\":\"\",\"Office_Staff_Overall_Satisfaction\":\"\",\"Office_Staff_Problem_Resolution\":\"\",\"Office_Staff_Professionalism_Courtesy\":\"\",\"Office_Staff_Responsiveness\":\"\",\"Office_Staff_Friendliness\":\"\",\"Sense_of_Community\":\"\",\"Customer_Service_Exceeds_My_Expectations\":\"\",\"Num_of_Fees_Waived\":\"0\",\"Sentiment\":\"\"})"
   ]
  },
  {
   "cell_type": "code",
   "execution_count": null,
   "id": "3ba4f0be-c323-4e92-9c13-79f59da589a6",
   "metadata": {},
   "outputs": [],
   "source": []
  },
  {
   "cell_type": "code",
   "execution_count": null,
   "id": "47cab976-4db3-4c00-91d1-40e54fc915e9",
   "metadata": {},
   "outputs": [],
   "source": []
  }
 ],
 "metadata": {
  "environment": {
   "kernel": "python3",
   "name": "common-cpu.m87",
   "type": "gcloud",
   "uri": "gcr.io/deeplearning-platform-release/base-cpu:m87"
  },
  "kernelspec": {
   "display_name": "Python 3",
   "language": "python",
   "name": "python3"
  },
  "language_info": {
   "codemirror_mode": {
    "name": "ipython",
    "version": 3
   },
   "file_extension": ".py",
   "mimetype": "text/x-python",
   "name": "python",
   "nbconvert_exporter": "python",
   "pygments_lexer": "ipython3",
   "version": "3.7.12"
  }
 },
 "nbformat": 4,
 "nbformat_minor": 5
}
